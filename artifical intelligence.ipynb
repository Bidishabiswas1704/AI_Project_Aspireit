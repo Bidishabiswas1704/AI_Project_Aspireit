{
 "cells": [
  {
   "cell_type": "markdown",
   "id": "8e5a71b8",
   "metadata": {},
   "source": [
    "## Step 1: Environment Setup"
   ]
  },
  {
   "cell_type": "code",
   "execution_count": null,
   "id": "030064ea",
   "metadata": {},
   "outputs": [],
   "source": [
    "pip install --upgrade openai\n"
   ]
  },
  {
   "cell_type": "code",
   "execution_count": null,
   "id": "e60f4009",
   "metadata": {},
   "outputs": [],
   "source": [
    "# Part 1: Environment Setup\n",
    "!pip install openai textblob matplotlib psycopg2\n"
   ]
  },
  {
   "cell_type": "markdown",
   "id": "cebc6f76",
   "metadata": {},
   "source": [
    "## Step 2: User Interaction and GPT-3 Response Generation"
   ]
  },
  {
   "cell_type": "code",
   "execution_count": null,
   "id": "7a0a9b25",
   "metadata": {},
   "outputs": [],
   "source": [
    "import openai\n",
    "import os\n",
    "import matplotlib.pyplot as plt\n",
    "from textblob import TextBlob\n",
    "\n",
    "# Set OpenAI API key\n",
    "openai.api_key = os.getenv(\"OPENAI_API_KEY\", \"your-api-key-here\")\n",
    "\n",
    "# Function to generate a GPT-3 response based on user input\n",
    "def generate_response(user_input):\n",
    "    try:\n",
    "        response = openai.Completion.create(\n",
    "            model=\"text-davinci-003\",\n",
    "            prompt=f\"User: {user_input}\\nGPT-3:\",  # Prompt for GPT-3 response\n",
    "            max_tokens=50,\n",
    "            temperature=0.7,\n",
    "        )\n",
    "        return response.choices[0].text.strip()\n",
    "    except Exception as e:  # Catch all exceptions\n",
    "        print(\"An error occurred while generating response:\", e)\n",
    "        return None\n",
    "\n",
    "# User interaction function with updated error handling\n",
    "def user_interaction():\n",
    "    \"\"\"Interact with the user and generate responses.\"\"\"\n",
    "    conversation = []\n",
    "    user_input = \"\"\n",
    "    \n",
    "    while user_input.lower() not in [\"exit\", \"quit\"]:\n",
    "        try:\n",
    "            # Prompt for user input\n",
    "            user_input = input(\"You: \")\n",
    "            if user_input.lower() in [\"exit\", \"quit\"]:\n",
    "                print(\"Goodbye!\")\n",
    "                break\n",
    "            \n",
    "            # Generate GPT-3 response\n",
    "            response = generate_response(user_input)\n",
    "            \n",
    "            if response:  # Check if response is not None\n",
    "                # Display and store the response\n",
    "                print(\"GPT-3:\", response)\n",
    "                conversation.append({\n",
    "                    \"user_input\": user_input,\n",
    "                    \"gpt_response\": response,\n",
    "                })\n",
    "        except Exception as e:  # Catch all unexpected errors\n",
    "            print(\"Unexpected error during user interaction:\", e)\n",
    "\n",
    "    return conversation  # Return the complete conversation\n"
   ]
  },
  {
   "cell_type": "markdown",
   "id": "0d0659da",
   "metadata": {},
   "source": [
    "## Step 3: Sentiment Analysis and Data Visualization"
   ]
  },
  {
   "cell_type": "code",
   "execution_count": null,
   "id": "5b9939df",
   "metadata": {},
   "outputs": [],
   "source": [
    "# Part 4: Sentiment Analysis\n",
    "def analyze_sentiment(text):\n",
    "    \"\"\"Perform sentiment analysis using TextBlob.\"\"\"\n",
    "    try:\n",
    "        analysis = TextBlob(text)\n",
    "        polarity = analysis.sentiment.polarity\n",
    "        if polarity > 0:\n",
    "            return \"positive\"\n",
    "        elif polarity < 0:\n",
    "            return \"negative\"\n",
    "        else:\n",
    "            return \"neutral\"\n",
    "    except Exception as e:\n",
    "        print(\"Error analyzing sentiment:\", e)\n",
    "        return \"unknown\"\n",
    "\n",
    "# Function to analyze sentiment for each response in a conversation\n",
    "def sentiment_analysis(conversation):\n",
    "    if not conversation:\n",
    "        print(\"No conversation data available for sentiment analysis.\")\n",
    "        return None\n",
    "    \n",
    "    sentiment_results = {\n",
    "        \"positive\": 0,\n",
    "        \"negative\": 0,\n",
    "        \"neutral\": 0,\n",
    "    }\n",
    "    \n",
    "    for entry in conversation:\n",
    "        sentiment = analyze_sentiment(entry[\"gpt_response\"])\n",
    "        sentiment_results[sentiment] += 1\n",
    "        entry[\"sentiment\"] = sentiment  # Add sentiment info\n",
    "    \n",
    "    return sentiment_results\n"
   ]
  },
  {
   "cell_type": "code",
   "execution_count": null,
   "id": "edddf6c9",
   "metadata": {},
   "outputs": [],
   "source": [
    "# Part 5: Data Visualization and Sentiment Report\n",
    "def create_sentiment_report(sentiment_results):\n",
    "    if sentiment_results is None:\n",
    "        print(\"No sentiment results to visualize.\")\n",
    "        return\n",
    "    \n",
    "    labels = list(sentiment_results.keys())\n",
    "    sizes = list(sentiment_results.values())\n",
    "    colors = [\"green\", \"red\", \"gray\"]  # Colors for positive, negative, neutral\n",
    "    explode = (0.1, 0, 0)  # Highlight positive sentiment\n",
    "    \n",
    "    plt.pie(sizes, explode=explode, labels=labels, colors=colors,\n",
    "            autopct=\"%1.1f%%\", shadow=True, startangle=140)\n",
    "    plt.axis(\"equal\")  # Maintain circular shape\n",
    "    plt.title(\"Sentiment Analysis Distribution\")\n",
    "    plt.show()\n"
   ]
  },
  {
   "cell_type": "markdown",
   "id": "3ddf96b2",
   "metadata": {},
   "source": [
    "## Step 4: PostgreSQL Database Integration"
   ]
  },
  {
   "cell_type": "code",
   "execution_count": null,
   "id": "99db13e6",
   "metadata": {},
   "outputs": [],
   "source": [
    "# Part 6: PostgreSQL Database Integration\n",
    "def connect_db():\n",
    "    \"\"\"Connect to PostgreSQL database.\"\"\"\n",
    "    try:\n",
    "        conn = psycopg2.connect(\n",
    "            host=\"localhost\",\n",
    "            port=\"5432\",\n",
    "            user=\"your_db_user\",\n",
    "            password=\"your_db_password\",\n",
    "            dbname=\"sentiment_db\",\n",
    "        )\n",
    "        return conn\n",
    "    except Exception as e:\n",
    "        print(\"Database connection error:\", e)\n",
    "        return None\n",
    "\n",
    "# Function to store conversation in the database\n",
    "def store_conversation_in_db(conversation):\n",
    "    conn = connect_db()\n",
    "    if conn is None:\n",
    "        print(\"Unable to connect to the database.\")\n",
    "        return\n",
    "    \n",
    "    cur = conn.cursor()\n",
    "    \n",
    "    # Create the table if it doesn't exist\n",
    "    cur.execute(\"\"\"\n",
    "        CREATE TABLE IF NOT EXISTS conversations (\n",
    "            id SERIAL PRIMARY KEY,\n",
    "            user_input TEXT,\n",
    "            gpt_response TEXT,\n",
    "            sentiment TEXT\n",
    "        );\n",
    "    \"\"\")\n",
    "    \n",
    "    # Insert the conversation into the database\n",
    "    for entry in conversation:\n",
    "        cur.execute(\"\"\"\n",
    "            INSERT INTO conversations (user_input, gpt_response, sentiment)\n",
    "            VALUES (%s, %s, %s);\n",
    "        \"\"\", (entry[\"user_input\"], entry[\"gpt_response\"], entry[\"sentiment\"]))\n",
    "    \n",
    "    conn.commit()\n",
    "    cur.close()\n",
    "    conn.close()\n"
   ]
  },
  {
   "cell_type": "code",
   "execution_count": null,
   "id": "bef4293f",
   "metadata": {},
   "outputs": [],
   "source": [
    "# Main Execution: Interaction, Sentiment Analysis, and Database Storage\n",
    "conversation = user_interaction()  # Properly define and initialize conversation\n",
    "sentiment_results = sentiment_analysis(conversation)  # Analyze sentiment in conversation\n",
    "\n",
    "# Create a sentiment report if results are available\n",
    "if sentiment_results:  \n",
    "    create_sentiment_report(sentiment_results)\n",
    "\n",
    "# Store the conversation in the PostgreSQL database\n",
    "store_conversation_in_db(conversation)\n"
   ]
  },
  {
   "cell_type": "markdown",
   "id": "da48745f",
   "metadata": {},
   "source": [
    "## Step 5: Docker Deployment"
   ]
  },
  {
   "cell_type": "code",
   "execution_count": null,
   "id": "4caf4793",
   "metadata": {},
   "outputs": [],
   "source": [
    "# Part 7: Docker Deployment\n",
    "dockerfile_content = \"\"\"\n",
    "# Base image for Python\n",
    "FROM python:3.9-slim\n",
    "\n",
    "# Set working directory\n",
    "WORKDIR /app\n",
    "\n",
    "# Install dependencies\n",
    "COPY requirements.txt .\n",
    "RUN pip install -r requirements.txt\n",
    "\n",
    "# Copy the project files into the container\n",
    "COPY . .\n",
    "\n",
    "# Run Jupyter Notebook\n",
    "CMD [\"jupyter\", \"notebook\", \"--ip=0.0.0.0\", \"--port=8888\", \"--no-browser\", \"--allow-root\"]\n",
    "\"\"\"\n",
    "\n",
    "with open(\"Dockerfile\", \"w\") as f:\n",
    "    f.write(dockerfile_content)\n",
    "\n",
    "# Create a requirements.txt with all dependencies\n",
    "requirements_content = \"\"\"\n",
    "openai\n",
    "textblob\n",
    "psycopg2\n",
    "matplotlib\n",
    "\"\"\"\n",
    "with open(\"requirements.txt\", \"w\") as f:\n",
    "    f.write(requirements_content)\n"
   ]
  },
  {
   "cell_type": "code",
   "execution_count": null,
   "id": "909cb4d8",
   "metadata": {},
   "outputs": [],
   "source": []
  }
 ],
 "metadata": {
  "kernelspec": {
   "display_name": "Python 3 (ipykernel)",
   "language": "python",
   "name": "python3"
  },
  "language_info": {
   "codemirror_mode": {
    "name": "ipython",
    "version": 3
   },
   "file_extension": ".py",
   "mimetype": "text/x-python",
   "name": "python",
   "nbconvert_exporter": "python",
   "pygments_lexer": "ipython3",
   "version": "3.11.5"
  }
 },
 "nbformat": 4,
 "nbformat_minor": 5
}
